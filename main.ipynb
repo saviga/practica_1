{
 "cells": [
  {
   "cell_type": "code",
   "execution_count": 1,
   "id": "fb581f83-82b6-4a63-bd4b-29b95ef12afc",
   "metadata": {},
   "outputs": [
    {
     "name": "stdout",
     "output_type": "stream",
     "text": [
      "¡Hola, Mundo!\n"
     ]
    }
   ],
   "source": [
    "print(\"¡Hola, Mundo!\")"
   ]
  },
  {
   "cell_type": "code",
   "execution_count": null,
   "id": "125093d1-d83c-4666-9597-b800192aaa02",
   "metadata": {},
   "outputs": [],
   "source": []
  }
 ],
 "metadata": {
  "kernelspec": {
   "display_name": "Python [conda env:base] *",
   "language": "python",
   "name": "conda-base-py"
  },
  "language_info": {
   "codemirror_mode": {
    "name": "ipython",
    "version": 3
   },
   "file_extension": ".py",
   "mimetype": "text/x-python",
   "name": "python",
   "nbconvert_exporter": "python",
   "pygments_lexer": "ipython3",
   "version": "3.12.7"
  }
 },
 "nbformat": 4,
 "nbformat_minor": 5
}
